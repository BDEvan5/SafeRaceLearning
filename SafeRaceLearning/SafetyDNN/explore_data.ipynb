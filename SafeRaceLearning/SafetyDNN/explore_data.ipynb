{
 "cells": [
  {
   "cell_type": "code",
   "execution_count": 1,
   "metadata": {},
   "outputs": [],
   "source": [
    "import numpy as np\n",
    "\n",
    "input_data = np.load(\"Data/Vehicles/SSS_DataGen/RandoData_Std_Super_None_f1_gbr_2_1_0/DataSets/input.npy\")\n",
    "output_data = np.load(\"Data/Vehicles/SSS_DataGen/RandoData_Std_Super_None_f1_gbr_2_1_0/DataSets/output.npy\")"
   ]
  },
  {
   "cell_type": "code",
   "execution_count": 3,
   "metadata": {},
   "outputs": [
    {
     "name": "stdout",
     "output_type": "stream",
     "text": [
      "N Safe: 9133\n",
      "N UnsafeSafe: 2157\n",
      "N Total: 11290\n"
     ]
    }
   ],
   "source": [
    "import matplotlib.pyplot as plt\n",
    "\n",
    "print(f\"N Safe: {np.count_nonzero(output_data == 0)}\")\n",
    "print(f\"N UnsafeSafe: {np.count_nonzero(output_data == 1)}\")\n",
    "print(f\"N Total: {output_data.shape[0]}\")"
   ]
  }
 ],
 "metadata": {
  "kernelspec": {
   "display_name": "Python 3",
   "language": "python",
   "name": "python3"
  },
  "language_info": {
   "codemirror_mode": {
    "name": "ipython",
    "version": 3
   },
   "file_extension": ".py",
   "mimetype": "text/x-python",
   "name": "python",
   "nbconvert_exporter": "python",
   "pygments_lexer": "ipython3",
   "version": "3.8.10"
  },
  "orig_nbformat": 4
 },
 "nbformat": 4,
 "nbformat_minor": 2
}
